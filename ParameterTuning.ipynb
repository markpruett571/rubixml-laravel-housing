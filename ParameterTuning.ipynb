{
 "cells": [
  {
   "cell_type": "code",
   "execution_count": 1,
   "id": "7afeffd4-8765-49c9-a34b-bd12cdf08efa",
   "metadata": {
    "tags": []
   },
   "outputs": [
    {
     "data": {
      "text/plain": [
       "<warning>PHP Deprecated:  Using ${var} in strings is deprecated, use {$var} instead in /home/mark/www/housing-prices/vendor/voku/portable-utf8/src/voku/helper/UTF8.php on line 3880</warning>\n",
       "<warning>PHP Deprecated:  Using ${var} in strings is deprecated, use {$var} instead in /home/mark/www/housing-prices/vendor/voku/portable-utf8/src/voku/helper/UTF8.php on line 4846</warning>\n",
       "<warning>PHP Deprecated:  Using ${var} in strings is deprecated, use {$var} instead in /home/mark/www/housing-prices/vendor/voku/portable-utf8/src/voku/helper/UTF8.php on line 11473</warning>\n",
       "<warning>PHP Deprecated:  Using ${var} in strings is deprecated, use {$var} instead in /home/mark/www/housing-prices/vendor/voku/portable-utf8/src/voku/helper/UTF8.php on line 11473</warning>\n",
       "1\n"
      ]
     },
     "execution_count": 1,
     "metadata": {},
     "output_type": "execute_result"
    }
   ],
   "source": [
    "<?php\n",
    "\n",
    "define('LARAVEL_START', microtime(true));\n",
    "\n",
    "/*\n",
    "|--------------------------------------------------------------------------\n",
    "| Register The Auto Loader\n",
    "|--------------------------------------------------------------------------\n",
    "|\n",
    "| Composer provides a convenient, automatically generated class loader\n",
    "| for our application. We just need to utilize it! We'll require it\n",
    "| into the script here so that we do not have to worry about the\n",
    "| loading of any of our classes manually. It's great to relax.\n",
    "|\n",
    "*/\n",
    "\n",
    "require __DIR__.'/vendor/autoload.php';\n",
    "\n",
    "$app = require_once __DIR__.'/bootstrap/app.php';\n",
    "\n",
    "/*\n",
    "|--------------------------------------------------------------------------\n",
    "| Run The Artisan Application\n",
    "|--------------------------------------------------------------------------\n",
    "|\n",
    "| When we run the console application, the current CLI command will be\n",
    "| executed in this console and the response sent back to a terminal\n",
    "| or another output device for the developers. Here goes nothing!\n",
    "|\n",
    "*/\n",
    "\n",
    "$kernel = $app->make(Illuminate\\Contracts\\Console\\Kernel::class);\n",
    "\n",
    "$status = $kernel->handle(\n",
    "    $input = new Symfony\\Component\\Console\\Input\\ArgvInput,\n",
    "    new Symfony\\Component\\Console\\Output\\ConsoleOutput\n",
    ");"
   ]
  },
  {
   "cell_type": "code",
   "execution_count": 2,
   "id": "91fd3e44-6af3-4089-bbd6-4e349dc6d4ae",
   "metadata": {
    "tags": []
   },
   "outputs": [
    {
     "data": {
      "text/plain": [
       "NULL\n"
      ]
     },
     "execution_count": 2,
     "metadata": {},
     "output_type": "execute_result"
    }
   ],
   "source": [
    "use Illuminate\\Console\\Command;\n",
    "use Illuminate\\Support\\Carbon;\n",
    "use Illuminate\\Support\\Facades\\DB;\n",
    "use Rubix\\ML\\CrossValidation\\Metrics\\SMAPE;\n",
    "use Rubix\\ML\\CrossValidation\\Reports\\ErrorAnalysis;\n",
    "use Rubix\\ML\\Datasets\\Labeled;\n",
    "use Rubix\\ML\\Datasets\\Unlabeled;\n",
    "use Rubix\\ML\\GridSearch;\n",
    "use Rubix\\ML\\PersistentModel;\n",
    "use Rubix\\ML\\Persisters\\Filesystem;\n",
    "use Rubix\\ML\\Regressors\\GradientBoost;\n",
    "use Rubix\\ML\\Regressors\\RegressionTree;\n",
    "use Rubix\\ML\\Backends\\Amp;\n",
    "\n",
    "srand(100);"
   ]
  },
  {
   "cell_type": "code",
   "execution_count": 3,
   "id": "9d6c7b2c-ef8c-4d58-a68c-638ed94e1933",
   "metadata": {
    "tags": []
   },
   "outputs": [
    {
     "data": {
      "text/plain": [
       "Built datasets\n"
      ]
     },
     "execution_count": 3,
     "metadata": {},
     "output_type": "execute_result"
    }
   ],
   "source": [
    "$data = DB::table('house_sales')->select(\n",
    "    'date',\n",
    "    'bedrooms',\n",
    "    'bathrooms',\n",
    "    'sqft_living',\n",
    "    'sqft_lot',\n",
    "    'floors',\n",
    "    'waterfront',\n",
    "    'view',\n",
    "    'condition',\n",
    "    'grade',\n",
    "    'sqft_above',\n",
    "    'sqft_basement',\n",
    "    'yr_built',\n",
    "    'yr_renovated',\n",
    "    'zipcode',\n",
    "    'price'\n",
    ")->get();\n",
    "\n",
    "$samples = $data->map(function($sample) {\n",
    "    return [\n",
    "        'date' => Carbon::parse($sample->date)->timestamp,\n",
    "        'bedrooms' => (float) $sample->bedrooms,\n",
    "        'bathrooms' => (float) $sample->bathrooms,\n",
    "        'sqft_living' => $sample->sqft_living,\n",
    "        'sqft_lot' => $sample->sqft_lot,\n",
    "        'floors' => (float) $sample->floors,\n",
    "        'waterfront' => $sample->waterfront,\n",
    "        'view' => (string) $sample->view,\n",
    "        'condition' => $sample->condition,\n",
    "        'grade' => $sample->grade,\n",
    "        'sqft_above' => $sample->sqft_above,\n",
    "        'sqft_basement' => $sample->sqft_basement,\n",
    "        'yr_built' => (float) $sample->yr_built,\n",
    "        'yr_renovated' => (float) $sample->yr_renovated,\n",
    "        'zipcode' => $sample->zipcode,\n",
    "    ];\n",
    "})->toArray();\n",
    "\n",
    "$labels = $data->pluck('price')->toArray();\n",
    "\n",
    "$dataset = Labeled::build($samples, $labels);\n",
    "[$training, $testing] = $dataset->randomize()->split(0.8);\n",
    "\n",
    "echo \"Built datasets\";"
   ]
  },
  {
   "cell_type": "markdown",
   "id": "1beba850-85a4-4d73-bcb8-9f6331754568",
   "metadata": {
    "tags": []
   },
   "source": [
    "# Hyper-parameter tuning with GridSearch"
   ]
  },
  {
   "cell_type": "code",
   "execution_count": 13,
   "id": "068077ce-4b81-481c-8669-171a06eeaa4e",
   "metadata": {
    "tags": []
   },
   "outputs": [
    {
     "data": {
      "text/plain": [
       "<warning>PHP Warning:  stream_socket_accept(): Accept failed: Connection timed out in /home/mark/www/housing-prices/vendor/amphp/parallel/lib/Context/Internal/ProcessHub.php on line 78</warning>\n",
       "<warning>PHP Warning:  stream_socket_accept(): Accept failed: Connection timed out in /home/mark/www/housing-prices/vendor/amphp/parallel/lib/Context/Internal/ProcessHub.php on line 78</warning>\n",
       "Training complete\n"
      ]
     },
     "execution_count": 13,
     "metadata": {},
     "output_type": "execute_result"
    }
   ],
   "source": [
    "$parameters = [\n",
    "    [PHP_INT_MAX], [1, 5, 10, 15, 20, 25, 40, 80, 150, 250, 500, 1000], [1e-1, 1e-2, 1e-3, 1e-4, 1e-5, 1e-6, 1e-7, 1e-8, 1e-9]\n",
    "];\n",
    "\n",
    "$estimator = new GridSearch(RegressionTree::class, $parameters);\n",
    "$estimator->setBackend(new Amp(14));\n",
    "\n",
    "$estimator->train($training);\n",
    "echo \"Training complete\";"
   ]
  },
  {
   "cell_type": "code",
   "execution_count": 15,
   "id": "52ab0e11-4c29-441a-aee8-c2bb70b3806f",
   "metadata": {
    "tags": []
   },
   "outputs": [
    {
     "data": {
      "text/plain": [
       "array (\n",
       "  'max height' => 9223372036854775807,\n",
       "  'max leaf size' => 40,\n",
       "  'max features' => NULL,\n",
       "  'min purity increase' => 0.0001,\n",
       "  'max bins' => NULL,\n",
       ")\n"
      ]
     },
     "execution_count": 15,
     "metadata": {},
     "output_type": "execute_result"
    }
   ],
   "source": [
    "$estimator->base()->params();"
   ]
  }
 ],
 "metadata": {
  "kernelspec": {
   "display_name": "PHP",
   "language": "php",
   "name": "php"
  },
  "language_info": {
   "file_extension": ".php",
   "mimetype": "text/x-php",
   "name": "PHP",
   "pygments_lexer": "PHP",
   "version": "8.2.5"
  }
 },
 "nbformat": 4,
 "nbformat_minor": 5
}
