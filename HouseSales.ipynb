{
 "cells": [
  {
   "cell_type": "markdown",
   "id": "288d12eb-44ac-4e56-a722-8870c66182a9",
   "metadata": {
    "tags": []
   },
   "source": [
    "# From artisan"
   ]
  },
  {
   "cell_type": "code",
   "execution_count": 2,
   "id": "083fa650-cd9c-4d16-9619-73678708a1c5",
   "metadata": {
    "tags": []
   },
   "outputs": [
    {
     "data": {
      "text/plain": [
       "<warning>PHP Deprecated:  Using ${var} in strings is deprecated, use {$var} instead in /home/mark/www/housing-prices/vendor/voku/portable-utf8/src/voku/helper/UTF8.php on line 3880</warning>\n",
       "<warning>PHP Deprecated:  Using ${var} in strings is deprecated, use {$var} instead in /home/mark/www/housing-prices/vendor/voku/portable-utf8/src/voku/helper/UTF8.php on line 4846</warning>\n",
       "<warning>PHP Deprecated:  Using ${var} in strings is deprecated, use {$var} instead in /home/mark/www/housing-prices/vendor/voku/portable-utf8/src/voku/helper/UTF8.php on line 11473</warning>\n",
       "<warning>PHP Deprecated:  Using ${var} in strings is deprecated, use {$var} instead in /home/mark/www/housing-prices/vendor/voku/portable-utf8/src/voku/helper/UTF8.php on line 11473</warning>\n",
       "1\n"
      ]
     },
     "execution_count": 2,
     "metadata": {},
     "output_type": "execute_result"
    }
   ],
   "source": [
    "<?php\n",
    "\n",
    "define('LARAVEL_START', microtime(true));\n",
    "\n",
    "/*\n",
    "|--------------------------------------------------------------------------\n",
    "| Register The Auto Loader\n",
    "|--------------------------------------------------------------------------\n",
    "|\n",
    "| Composer provides a convenient, automatically generated class loader\n",
    "| for our application. We just need to utilize it! We'll require it\n",
    "| into the script here so that we do not have to worry about the\n",
    "| loading of any of our classes manually. It's great to relax.\n",
    "|\n",
    "*/\n",
    "\n",
    "require __DIR__.'/vendor/autoload.php';\n",
    "\n",
    "$app = require_once __DIR__.'/bootstrap/app.php';\n",
    "\n",
    "/*\n",
    "|--------------------------------------------------------------------------\n",
    "| Run The Artisan Application\n",
    "|--------------------------------------------------------------------------\n",
    "|\n",
    "| When we run the console application, the current CLI command will be\n",
    "| executed in this console and the response sent back to a terminal\n",
    "| or another output device for the developers. Here goes nothing!\n",
    "|\n",
    "*/\n",
    "\n",
    "$kernel = $app->make(Illuminate\\Contracts\\Console\\Kernel::class);\n",
    "\n",
    "$status = $kernel->handle(\n",
    "    $input = new Symfony\\Component\\Console\\Input\\ArgvInput,\n",
    "    new Symfony\\Component\\Console\\Output\\ConsoleOutput\n",
    ");"
   ]
  },
  {
   "cell_type": "markdown",
   "id": "5488e75e-fbbb-4fb5-a91d-8232d93e1a81",
   "metadata": {},
   "source": [
    "# Import"
   ]
  },
  {
   "cell_type": "code",
   "execution_count": 28,
   "id": "03cae30f-0ce8-440b-820d-93f72230b129",
   "metadata": {
    "tags": []
   },
   "outputs": [
    {
     "data": {
      "text/plain": []
     },
     "execution_count": 28,
     "metadata": {},
     "output_type": "execute_result"
    }
   ],
   "source": [
    "use Illuminate\\Console\\Command;\n",
    "use Illuminate\\Support\\Carbon;\n",
    "use Illuminate\\Support\\Facades\\DB;\n",
    "use Rubix\\ML\\CrossValidation\\Metrics\\SMAPE;\n",
    "use Rubix\\ML\\CrossValidation\\Reports\\ErrorAnalysis;\n",
    "use Rubix\\ML\\Datasets\\Labeled;\n",
    "use Rubix\\ML\\Datasets\\Unlabeled;\n",
    "use Rubix\\ML\\GridSearch;\n",
    "use Rubix\\ML\\PersistentModel;\n",
    "use Rubix\\ML\\Persisters\\Filesystem;\n",
    "use Rubix\\ML\\Regressors\\GradientBoost;\n",
    "use Rubix\\ML\\Regressors\\RegressionTree;"
   ]
  },
  {
   "cell_type": "markdown",
   "id": "d36bb2e2-4c53-4b83-9b95-b5665120d2e7",
   "metadata": {
    "tags": []
   },
   "source": [
    "# Seed the random number generator"
   ]
  },
  {
   "cell_type": "code",
   "execution_count": 4,
   "id": "49190248-32ef-4d2d-ab94-fb182b87b30e",
   "metadata": {
    "tags": []
   },
   "outputs": [
    {
     "data": {
      "text/plain": [
       "NULL\n"
      ]
     },
     "execution_count": 4,
     "metadata": {},
     "output_type": "execute_result"
    }
   ],
   "source": [
    "srand(100);"
   ]
  },
  {
   "cell_type": "markdown",
   "id": "d77e449d-ec7a-4dc8-84bf-3aaa6007cf11",
   "metadata": {},
   "source": [
    "# Fetch data from the house_sales table"
   ]
  },
  {
   "cell_type": "code",
   "execution_count": 5,
   "id": "1a6b563f-415b-430d-a196-63235018ce17",
   "metadata": {
    "tags": []
   },
   "outputs": [
    {
     "data": {
      "text/plain": [
       "Loaded house sale data\n"
      ]
     },
     "execution_count": 5,
     "metadata": {},
     "output_type": "execute_result"
    }
   ],
   "source": [
    "$data = DB::table('house_sales')->select(\n",
    "    'date',\n",
    "    'bedrooms',\n",
    "    'bathrooms',\n",
    "    'sqft_living',\n",
    "    'sqft_lot',\n",
    "    'floors',\n",
    "    'waterfront',\n",
    "    'view',\n",
    "    'condition',\n",
    "    'grade',\n",
    "    'sqft_above',\n",
    "    'sqft_basement',\n",
    "    'yr_built',\n",
    "    'yr_renovated',\n",
    "    'zipcode',\n",
    "    'price'\n",
    ")->get();\n",
    "\n",
    "echo \"Loaded house sale data\";"
   ]
  },
  {
   "cell_type": "markdown",
   "id": "451dab67-576d-49da-9a5c-7e36f8437bdb",
   "metadata": {},
   "source": [
    "# Get average values"
   ]
  },
  {
   "cell_type": "code",
   "execution_count": 17,
   "id": "6a61eb56-81cf-48c9-b406-386a16282011",
   "metadata": {
    "tags": []
   },
   "outputs": [
    {
     "data": {
      "text/plain": [
       "2079.8997362698374\n"
      ]
     },
     "execution_count": 17,
     "metadata": {},
     "output_type": "execute_result"
    }
   ],
   "source": [
    "$data->avg('sqft_living');"
   ]
  },
  {
   "cell_type": "markdown",
   "id": "ee939ea8-ce21-49fe-be00-db87060e5366",
   "metadata": {},
   "source": [
    "# Build dataset"
   ]
  },
  {
   "cell_type": "code",
   "execution_count": 19,
   "id": "e39b5221-933a-45c7-b257-2054d2b6c55b",
   "metadata": {
    "tags": []
   },
   "outputs": [
    {
     "data": {
      "text/plain": [
       "Dataset built\n"
      ]
     },
     "execution_count": 19,
     "metadata": {},
     "output_type": "execute_result"
    }
   ],
   "source": [
    "$samples = $data->map(function($sample) {\n",
    "    return [\n",
    "        'date' => Carbon::parse($sample->date)->timestamp,\n",
    "        'bedrooms' => (float) $sample->bedrooms,\n",
    "        'bathrooms' => (float) $sample->bathrooms,\n",
    "        'sqft_living' => $sample->sqft_living,\n",
    "        'sqft_lot' => $sample->sqft_lot,\n",
    "        'floors' => (float) $sample->floors,\n",
    "        'waterfront' => $sample->waterfront,\n",
    "        'view' => (string) $sample->view,\n",
    "        'condition' => $sample->condition,\n",
    "        'grade' => $sample->grade,\n",
    "        'sqft_above' => $sample->sqft_above,\n",
    "        'sqft_basement' => $sample->sqft_basement,\n",
    "        'yr_built' => (float) $sample->yr_built,\n",
    "        'yr_renovated' => (float) $sample->yr_renovated,\n",
    "        'zipcode' => $sample->zipcode,\n",
    "    ];\n",
    "})->toArray();\n",
    "\n",
    "$labels = $data->pluck('price')->toArray();\n",
    "\n",
    "$dataset = Labeled::build($samples, $labels);\n",
    "\n",
    "echo \"Dataset built\";"
   ]
  },
  {
   "cell_type": "markdown",
   "id": "4860ed57-91c7-4b6b-8331-6f4a13d82083",
   "metadata": {
    "tags": []
   },
   "source": [
    "# Build training/testing data split"
   ]
  },
  {
   "cell_type": "code",
   "execution_count": 20,
   "id": "7b5d07cd-23d8-4f65-89a7-0223f2db67f1",
   "metadata": {
    "tags": []
   },
   "outputs": [
    {
     "data": {
      "text/plain": [
       "Training and testing data split built\n"
      ]
     },
     "execution_count": 20,
     "metadata": {},
     "output_type": "execute_result"
    }
   ],
   "source": [
    "[$training, $testing] = $dataset->randomize()->split(0.8);\n",
    "echo \"Training and testing data split built\";"
   ]
  },
  {
   "cell_type": "markdown",
   "id": "ca47294e-602e-42ec-bbe8-f7cc5af3c01c",
   "metadata": {},
   "source": [
    "# Train RegressionTree"
   ]
  },
  {
   "cell_type": "code",
   "execution_count": 22,
   "id": "497d526f-9452-4a9c-88ca-0f4edbef6edf",
   "metadata": {
    "tags": []
   },
   "outputs": [
    {
     "data": {
      "text/plain": [
       "Estimator trained\n"
      ]
     },
     "execution_count": 22,
     "metadata": {},
     "output_type": "execute_result"
    }
   ],
   "source": [
    "$estimator = new RegressionTree();\n",
    "\n",
    "$estimator->train($training);\n",
    "\n",
    "echo \"Estimator trained\""
   ]
  },
  {
   "cell_type": "markdown",
   "id": "00430039-3bf8-4c16-b795-e0fc33dd874c",
   "metadata": {},
   "source": [
    "# Make predictions on testing data and get error report"
   ]
  },
  {
   "cell_type": "code",
   "execution_count": 26,
   "id": "9389865f-a86a-44d0-86d9-a4275c95344f",
   "metadata": {
    "tags": []
   },
   "outputs": [
    {
     "data": {
      "text/plain": [
       "\\Rubix\\ML\\Report::__set_state(array(\n",
       "   'attributes' => \n",
       "  array (\n",
       "    'mean absolute error' => 145358.1455095468,\n",
       "    'median absolute error' => 92000.0,\n",
       "    'mean squared error' => 57433076827.45519,\n",
       "    'mean squared log error' => 0.13142180528394265,\n",
       "    'mean absolute percentage error' => 28.57647834340099,\n",
       "    'rms error' => 239651.991077594,\n",
       "    'r squared' => 0.5276647035412245,\n",
       "    'error mean' => 2963.6220918383096,\n",
       "    'error standard deviation' => 239633.66577246928,\n",
       "    'error skewness' => 0.8134005564414655,\n",
       "    'error kurtosis' => 17.948701912909677,\n",
       "    'error min' => -1910166.6666666665,\n",
       "    'error 25%' => -93575.0,\n",
       "    'error median' => -1773.5,\n",
       "    'error 75%' => 90698.00000000001,\n",
       "    'error max' => 2789000.0,\n",
       "    'cardinality' => 4323,\n",
       "  ),\n",
       "))\n"
      ]
     },
     "execution_count": 26,
     "metadata": {},
     "output_type": "execute_result"
    }
   ],
   "source": [
    "$predictions = $estimator->predict($testing);\n",
    "\n",
    "$report = new ErrorAnalysis();\n",
    "\n",
    "$report->generate($predictions, $testing->labels())"
   ]
  },
  {
   "cell_type": "markdown",
   "id": "b106d1a2-d145-42e0-a28a-9ff5cfbdbe3c",
   "metadata": {},
   "source": [
    "# Make prediction on sample from the database"
   ]
  },
  {
   "cell_type": "code",
   "execution_count": 46,
   "id": "7e6b2a28-d4b8-41b2-9bdb-6e28614c82c8",
   "metadata": {
    "tags": []
   },
   "outputs": [
    {
     "data": {
      "text/plain": [
       "(object) array(\n",
       "   'id' => '01GYV0HZTVFE1YEAMK39NN8DZD',\n",
       "   'house_id' => '7237550310',\n",
       "   'date' => '2014-05-12',\n",
       "   'price' => 1225000,\n",
       "   'bedrooms' => '4.00',\n",
       "   'bathrooms' => '4.50',\n",
       "   'sqft_living' => 5420,\n",
       "   'sqft_lot' => 101930,\n",
       "   'floors' => '1.00',\n",
       "   'waterfront' => '0',\n",
       "   'view' => 0,\n",
       "   'condition' => '3',\n",
       "   'grade' => '11',\n",
       "   'sqft_above' => 3890,\n",
       "   'sqft_basement' => 1530,\n",
       "   'yr_built' => 2001,\n",
       "   'yr_renovated' => 0,\n",
       "   'zipcode' => '98053',\n",
       "   'lat' => '47.6561',\n",
       "   'long' => '-122.005',\n",
       "   'sqft_living15' => 4760,\n",
       "   'sqft_lot15' => 101930,\n",
       "   'created_at' => '2023-04-25 01:30:55',\n",
       "   'updated_at' => '2023-05-17 02:11:07',\n",
       "   'estimated_price' => 1215171,\n",
       ")\n"
      ]
     },
     "execution_count": 46,
     "metadata": {},
     "output_type": "execute_result"
    }
   ],
   "source": [
    "$dbtest = DB::table('house_sales')->find('01GYV0HZTVFE1YEAMK39NN8DZD');"
   ]
  },
  {
   "cell_type": "code",
   "execution_count": 47,
   "id": "ae374e6b-2f00-4543-ad8a-4511d44ecac4",
   "metadata": {
    "tags": []
   },
   "outputs": [
    {
     "data": {
      "text/plain": [
       "Dataset built\n"
      ]
     },
     "execution_count": 47,
     "metadata": {},
     "output_type": "execute_result"
    }
   ],
   "source": [
    "$dbsample = [[\n",
    "    'date' => Carbon::parse($dbtest->date)->timestamp,\n",
    "    'bedrooms' => (float) $dbtest->bedrooms,\n",
    "    'bathrooms' => (float) $dbtest->bathrooms,\n",
    "    'sqft_living' => $dbtest->sqft_living,\n",
    "    'sqft_lot' => $dbtest->sqft_lot,\n",
    "    'floors' => (float) $dbtest->floors,\n",
    "    'waterfront' => $dbtest->waterfront,\n",
    "    'view' => (string) $dbtest->view,\n",
    "    'condition' => $dbtest->condition,\n",
    "    'grade' => $dbtest->grade,\n",
    "    'sqft_above' => $dbtest->sqft_above,\n",
    "    'sqft_basement' => $dbtest->sqft_basement,\n",
    "    'yr_built' => (float) $dbtest->yr_built,\n",
    "    'yr_renovated' => (float) $dbtest->yr_renovated,\n",
    "    'zipcode' => $dbtest->zipcode,\n",
    "]];\n",
    "\n",
    "$dbtestDataset = Unlabeled::build($dbsample);\n",
    "\n",
    "echo \"Dataset built\";"
   ]
  },
  {
   "cell_type": "code",
   "execution_count": 48,
   "id": "6f15697a-d3bd-4c8b-ae0c-c90d82b9c8c4",
   "metadata": {
    "tags": []
   },
   "outputs": [
    {
     "data": {
      "text/plain": [
       "array (\n",
       "  0 => 1225000.0,\n",
       ")\n"
      ]
     },
     "execution_count": 48,
     "metadata": {},
     "output_type": "execute_result"
    }
   ],
   "source": [
    "$estimator->predict($dbtestDataset);"
   ]
  }
 ],
 "metadata": {
  "kernelspec": {
   "display_name": "PHP",
   "language": "php",
   "name": "php"
  },
  "language_info": {
   "file_extension": ".php",
   "mimetype": "text/x-php",
   "name": "PHP",
   "pygments_lexer": "PHP",
   "version": "8.2.5"
  }
 },
 "nbformat": 4,
 "nbformat_minor": 5
}
